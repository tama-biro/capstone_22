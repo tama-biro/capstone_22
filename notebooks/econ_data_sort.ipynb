{
 "cells": [
  {
   "cell_type": "code",
   "execution_count": 18,
   "metadata": {},
   "outputs": [],
   "source": [
    "import pandas as pd"
   ]
  },
  {
   "cell_type": "code",
   "execution_count": 19,
   "metadata": {},
   "outputs": [],
   "source": [
    "inflation = pd.read_csv(\"../dataset/inflation.csv\")\n",
    "unemp_0521 = pd.read_csv(\"../dataset/unemp_05-21.csv\")\n",
    "unemp_2122 = pd.read_csv(\"../dataset/unemp_21-22.csv\")"
   ]
  },
  {
   "cell_type": "code",
   "execution_count": 20,
   "metadata": {},
   "outputs": [],
   "source": [
    "inflation = inflation.transpose()\n",
    "unemp_0521 = unemp_0521.transpose()\n",
    "unemp_2122 = unemp_2122.transpose()"
   ]
  },
  {
   "cell_type": "code",
   "execution_count": 21,
   "metadata": {},
   "outputs": [],
   "source": [
    "unemp = pd.concat([unemp_0521, unemp_2122], axis=0)"
   ]
  },
  {
   "cell_type": "code",
   "execution_count": 22,
   "metadata": {},
   "outputs": [],
   "source": [
    "inflation = inflation.rename(columns={0: \"Inflation\"})\n",
    "unemp = unemp.rename(columns={0: \"Unemployment\"})"
   ]
  },
  {
   "cell_type": "code",
   "execution_count": 23,
   "metadata": {},
   "outputs": [],
   "source": [
    "unemp[\"Delta\"] = (unemp[\"Unemployment\"] / unemp[\"Unemployment\"].shift(1)) - 1\n",
    "inflation[\"Delta\"] = (inflation[\"Inflation\"] / inflation[\"Inflation\"].shift(1)) - 1"
   ]
  },
  {
   "cell_type": "code",
   "execution_count": 24,
   "metadata": {},
   "outputs": [],
   "source": [
    "inflation.to_csv(\"../dataset/inflation_clean.csv\")\n",
    "unemp.to_csv(\"../dataset/unemp_clean.csv\")"
   ]
  },
  {
   "cell_type": "code",
   "execution_count": null,
   "metadata": {},
   "outputs": [],
   "source": []
  }
 ],
 "metadata": {
  "kernelspec": {
   "display_name": "Python 3.9.7 ('capstone')",
   "language": "python",
   "name": "python3"
  },
  "language_info": {
   "codemirror_mode": {
    "name": "ipython",
    "version": 3
   },
   "file_extension": ".py",
   "mimetype": "text/x-python",
   "name": "python",
   "nbconvert_exporter": "python",
   "pygments_lexer": "ipython3",
   "version": "3.9.7"
  },
  "orig_nbformat": 4,
  "vscode": {
   "interpreter": {
    "hash": "276a14dae6666bcb6ed89d918896adede68a2b9bdb45438fbd6182b59f67b49f"
   }
  }
 },
 "nbformat": 4,
 "nbformat_minor": 2
}
