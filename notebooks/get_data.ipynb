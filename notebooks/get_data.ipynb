{
 "cells": [
  {
   "cell_type": "markdown",
   "metadata": {},
   "source": [
    "# Data retrieval script\n",
    "\n",
    "This notebook details the steps used to retrieve data from Lawline and save it to disk."
   ]
  },
  {
   "cell_type": "code",
   "execution_count": 40,
   "metadata": {},
   "outputs": [],
   "source": [
    "from bs4 import BeautifulSoup\n",
    "from selenium import webdriver\n",
    "from selenium.webdriver.chrome.options import Options\n",
    "import time\n",
    "import numpy as np\n",
    "import pandas as pd"
   ]
  },
  {
   "cell_type": "code",
   "execution_count": 3,
   "metadata": {},
   "outputs": [],
   "source": [
    "link_list = []"
   ]
  },
  {
   "cell_type": "code",
   "execution_count": 4,
   "metadata": {},
   "outputs": [],
   "source": [
    "options = Options()\n",
    "options.add_argument('--headless')\n",
    "options.add_argument('--disable-gpu')\n",
    "driver = webdriver.Chrome(options=options)"
   ]
  },
  {
   "cell_type": "code",
   "execution_count": 6,
   "metadata": {},
   "outputs": [
    {
     "name": "stdout",
     "output_type": "stream",
     "text": [
      "500\n",
      "1000\n",
      "1500\n",
      "2000\n",
      "2500\n",
      "3000\n",
      "3500\n",
      "4000\n",
      "4500\n",
      "5000\n",
      "5500\n",
      "6000\n",
      "6500\n",
      "7000\n",
      "7500\n",
      "8000\n",
      "8500\n",
      "9000\n",
      "9500\n",
      "10000\n",
      "500\n",
      "1000\n",
      "1500\n",
      "2000\n",
      "2500\n",
      "3000\n",
      "3500\n",
      "4000\n",
      "4500\n",
      "5000\n",
      "5500\n",
      "6000\n",
      "6500\n",
      "7000\n",
      "7500\n",
      "8000\n",
      "8500\n",
      "9000\n",
      "9500\n",
      "10000\n",
      "500\n",
      "1000\n",
      "1500\n",
      "2000\n",
      "2500\n",
      "3000\n",
      "3500\n",
      "4000\n",
      "4500\n",
      "5000\n",
      "5500\n",
      "6000\n",
      "6500\n"
     ]
    },
    {
     "ename": "WebDriverException",
     "evalue": "Message: unknown error: net::ERR_NAME_NOT_RESOLVED\n  (Session info: headless chrome=102.0.5005.115)\nStacktrace:\nBacktrace:\n\tOrdinal0 [0x0065D953+2414931]\n\tOrdinal0 [0x005EF5E1+1963489]\n\tOrdinal0 [0x004DC6B8+837304]\n\tOrdinal0 [0x004D8E18+822808]\n\tOrdinal0 [0x004CDE5D+777821]\n\tOrdinal0 [0x004CEA3B+780859]\n\tOrdinal0 [0x004CE06A+778346]\n\tOrdinal0 [0x004CD646+775750]\n\tOrdinal0 [0x004CC565+771429]\n\tOrdinal0 [0x004CCA3D+772669]\n\tOrdinal0 [0x004DDEA4+843428]\n\tOrdinal0 [0x00534EBD+1199805]\n\tOrdinal0 [0x0052449C+1131676]\n\tOrdinal0 [0x00534812+1198098]\n\tOrdinal0 [0x005242B6+1131190]\n\tOrdinal0 [0x004FE860+976992]\n\tOrdinal0 [0x004FF756+980822]\n\tGetHandleVerifier [0x008CCC62+2510274]\n\tGetHandleVerifier [0x008BF760+2455744]\n\tGetHandleVerifier [0x006EEABA+551962]\n\tGetHandleVerifier [0x006ED916+547446]\n\tOrdinal0 [0x005F5F3B+1990459]\n\tOrdinal0 [0x005FA898+2009240]\n\tOrdinal0 [0x005FA985+2009477]\n\tOrdinal0 [0x00603AD1+2046673]\n\tBaseThreadInitThunk [0x76CF6739+25]\n\tRtlGetFullPathName_UEx [0x77648FEF+1215]\n\tRtlGetFullPathName_UEx [0x77648FBD+1165]\n",
     "output_type": "error",
     "traceback": [
      "\u001b[1;31m---------------------------------------------------------------------------\u001b[0m",
      "\u001b[1;31mWebDriverException\u001b[0m                        Traceback (most recent call last)",
      "\u001b[1;32mc:\\Users\\samue\\Documents\\GitHub\\capstone_22\\get_data.ipynb Cell 5'\u001b[0m in \u001b[0;36m<module>\u001b[1;34m\u001b[0m\n\u001b[0;32m      <a href='vscode-notebook-cell:/c%3A/Users/samue/Documents/GitHub/capstone_22/get_data.ipynb#ch0000004?line=3'>4</a>\u001b[0m \u001b[39mfor\u001b[39;00m i \u001b[39min\u001b[39;00m \u001b[39mrange\u001b[39m(\u001b[39m1\u001b[39m, max_i):\n\u001b[0;32m      <a href='vscode-notebook-cell:/c%3A/Users/samue/Documents/GitHub/capstone_22/get_data.ipynb#ch0000004?line=4'>5</a>\u001b[0m     url \u001b[39m=\u001b[39m \u001b[39mf\u001b[39m\u001b[39m\"\u001b[39m\u001b[39mhttps://lawline.se/categories?page=\u001b[39m\u001b[39m{\u001b[39;00mi\u001b[39m}\u001b[39;00m\u001b[39m\"\u001b[39m\n\u001b[1;32m----> <a href='vscode-notebook-cell:/c%3A/Users/samue/Documents/GitHub/capstone_22/get_data.ipynb#ch0000004?line=5'>6</a>\u001b[0m     driver\u001b[39m.\u001b[39;49mget(url)\n\u001b[0;32m      <a href='vscode-notebook-cell:/c%3A/Users/samue/Documents/GitHub/capstone_22/get_data.ipynb#ch0000004?line=6'>7</a>\u001b[0m     time\u001b[39m.\u001b[39msleep(\u001b[39m3\u001b[39m)\n\u001b[0;32m      <a href='vscode-notebook-cell:/c%3A/Users/samue/Documents/GitHub/capstone_22/get_data.ipynb#ch0000004?line=7'>8</a>\u001b[0m     page \u001b[39m=\u001b[39m driver\u001b[39m.\u001b[39mpage_source\n",
      "File \u001b[1;32mc:\\Users\\samue\\miniconda3\\envs\\t-dab-environment\\lib\\site-packages\\selenium\\webdriver\\remote\\webdriver.py:436\u001b[0m, in \u001b[0;36mWebDriver.get\u001b[1;34m(self, url)\u001b[0m\n\u001b[0;32m    <a href='file:///c%3A/Users/samue/miniconda3/envs/t-dab-environment/lib/site-packages/selenium/webdriver/remote/webdriver.py?line=431'>432</a>\u001b[0m \u001b[39mdef\u001b[39;00m \u001b[39mget\u001b[39m(\u001b[39mself\u001b[39m, url: \u001b[39mstr\u001b[39m) \u001b[39m-\u001b[39m\u001b[39m>\u001b[39m \u001b[39mNone\u001b[39;00m:\n\u001b[0;32m    <a href='file:///c%3A/Users/samue/miniconda3/envs/t-dab-environment/lib/site-packages/selenium/webdriver/remote/webdriver.py?line=432'>433</a>\u001b[0m     \u001b[39m\"\"\"\u001b[39;00m\n\u001b[0;32m    <a href='file:///c%3A/Users/samue/miniconda3/envs/t-dab-environment/lib/site-packages/selenium/webdriver/remote/webdriver.py?line=433'>434</a>\u001b[0m \u001b[39m    Loads a web page in the current browser session.\u001b[39;00m\n\u001b[0;32m    <a href='file:///c%3A/Users/samue/miniconda3/envs/t-dab-environment/lib/site-packages/selenium/webdriver/remote/webdriver.py?line=434'>435</a>\u001b[0m \u001b[39m    \"\"\"\u001b[39;00m\n\u001b[1;32m--> <a href='file:///c%3A/Users/samue/miniconda3/envs/t-dab-environment/lib/site-packages/selenium/webdriver/remote/webdriver.py?line=435'>436</a>\u001b[0m     \u001b[39mself\u001b[39;49m\u001b[39m.\u001b[39;49mexecute(Command\u001b[39m.\u001b[39;49mGET, {\u001b[39m'\u001b[39;49m\u001b[39murl\u001b[39;49m\u001b[39m'\u001b[39;49m: url})\n",
      "File \u001b[1;32mc:\\Users\\samue\\miniconda3\\envs\\t-dab-environment\\lib\\site-packages\\selenium\\webdriver\\remote\\webdriver.py:424\u001b[0m, in \u001b[0;36mWebDriver.execute\u001b[1;34m(self, driver_command, params)\u001b[0m\n\u001b[0;32m    <a href='file:///c%3A/Users/samue/miniconda3/envs/t-dab-environment/lib/site-packages/selenium/webdriver/remote/webdriver.py?line=421'>422</a>\u001b[0m response \u001b[39m=\u001b[39m \u001b[39mself\u001b[39m\u001b[39m.\u001b[39mcommand_executor\u001b[39m.\u001b[39mexecute(driver_command, params)\n\u001b[0;32m    <a href='file:///c%3A/Users/samue/miniconda3/envs/t-dab-environment/lib/site-packages/selenium/webdriver/remote/webdriver.py?line=422'>423</a>\u001b[0m \u001b[39mif\u001b[39;00m response:\n\u001b[1;32m--> <a href='file:///c%3A/Users/samue/miniconda3/envs/t-dab-environment/lib/site-packages/selenium/webdriver/remote/webdriver.py?line=423'>424</a>\u001b[0m     \u001b[39mself\u001b[39;49m\u001b[39m.\u001b[39;49merror_handler\u001b[39m.\u001b[39;49mcheck_response(response)\n\u001b[0;32m    <a href='file:///c%3A/Users/samue/miniconda3/envs/t-dab-environment/lib/site-packages/selenium/webdriver/remote/webdriver.py?line=424'>425</a>\u001b[0m     response[\u001b[39m'\u001b[39m\u001b[39mvalue\u001b[39m\u001b[39m'\u001b[39m] \u001b[39m=\u001b[39m \u001b[39mself\u001b[39m\u001b[39m.\u001b[39m_unwrap_value(\n\u001b[0;32m    <a href='file:///c%3A/Users/samue/miniconda3/envs/t-dab-environment/lib/site-packages/selenium/webdriver/remote/webdriver.py?line=425'>426</a>\u001b[0m         response\u001b[39m.\u001b[39mget(\u001b[39m'\u001b[39m\u001b[39mvalue\u001b[39m\u001b[39m'\u001b[39m, \u001b[39mNone\u001b[39;00m))\n\u001b[0;32m    <a href='file:///c%3A/Users/samue/miniconda3/envs/t-dab-environment/lib/site-packages/selenium/webdriver/remote/webdriver.py?line=426'>427</a>\u001b[0m     \u001b[39mreturn\u001b[39;00m response\n",
      "File \u001b[1;32mc:\\Users\\samue\\miniconda3\\envs\\t-dab-environment\\lib\\site-packages\\selenium\\webdriver\\remote\\errorhandler.py:247\u001b[0m, in \u001b[0;36mErrorHandler.check_response\u001b[1;34m(self, response)\u001b[0m\n\u001b[0;32m    <a href='file:///c%3A/Users/samue/miniconda3/envs/t-dab-environment/lib/site-packages/selenium/webdriver/remote/errorhandler.py?line=244'>245</a>\u001b[0m         alert_text \u001b[39m=\u001b[39m value[\u001b[39m'\u001b[39m\u001b[39malert\u001b[39m\u001b[39m'\u001b[39m]\u001b[39m.\u001b[39mget(\u001b[39m'\u001b[39m\u001b[39mtext\u001b[39m\u001b[39m'\u001b[39m)\n\u001b[0;32m    <a href='file:///c%3A/Users/samue/miniconda3/envs/t-dab-environment/lib/site-packages/selenium/webdriver/remote/errorhandler.py?line=245'>246</a>\u001b[0m     \u001b[39mraise\u001b[39;00m exception_class(message, screen, stacktrace, alert_text)  \u001b[39m# type: ignore[call-arg]  # mypy is not smart enough here\u001b[39;00m\n\u001b[1;32m--> <a href='file:///c%3A/Users/samue/miniconda3/envs/t-dab-environment/lib/site-packages/selenium/webdriver/remote/errorhandler.py?line=246'>247</a>\u001b[0m \u001b[39mraise\u001b[39;00m exception_class(message, screen, stacktrace)\n",
      "\u001b[1;31mWebDriverException\u001b[0m: Message: unknown error: net::ERR_NAME_NOT_RESOLVED\n  (Session info: headless chrome=102.0.5005.115)\nStacktrace:\nBacktrace:\n\tOrdinal0 [0x0065D953+2414931]\n\tOrdinal0 [0x005EF5E1+1963489]\n\tOrdinal0 [0x004DC6B8+837304]\n\tOrdinal0 [0x004D8E18+822808]\n\tOrdinal0 [0x004CDE5D+777821]\n\tOrdinal0 [0x004CEA3B+780859]\n\tOrdinal0 [0x004CE06A+778346]\n\tOrdinal0 [0x004CD646+775750]\n\tOrdinal0 [0x004CC565+771429]\n\tOrdinal0 [0x004CCA3D+772669]\n\tOrdinal0 [0x004DDEA4+843428]\n\tOrdinal0 [0x00534EBD+1199805]\n\tOrdinal0 [0x0052449C+1131676]\n\tOrdinal0 [0x00534812+1198098]\n\tOrdinal0 [0x005242B6+1131190]\n\tOrdinal0 [0x004FE860+976992]\n\tOrdinal0 [0x004FF756+980822]\n\tGetHandleVerifier [0x008CCC62+2510274]\n\tGetHandleVerifier [0x008BF760+2455744]\n\tGetHandleVerifier [0x006EEABA+551962]\n\tGetHandleVerifier [0x006ED916+547446]\n\tOrdinal0 [0x005F5F3B+1990459]\n\tOrdinal0 [0x005FA898+2009240]\n\tOrdinal0 [0x005FA985+2009477]\n\tOrdinal0 [0x00603AD1+2046673]\n\tBaseThreadInitThunk [0x76CF6739+25]\n\tRtlGetFullPathName_UEx [0x77648FEF+1215]\n\tRtlGetFullPathName_UEx [0x77648FBD+1165]\n"
     ]
    }
   ],
   "source": [
    "for _ in range(5):\n",
    "    max_i = 10146\n",
    "\n",
    "    for i in range(1, max_i):\n",
    "        url = f\"https://lawline.se/categories?page={i}\"\n",
    "        driver.get(url)\n",
    "        time.sleep(3)\n",
    "        page = driver.page_source\n",
    "        soup = BeautifulSoup(page, 'html.parser')\n",
    "        links = soup.find_all('a',\n",
    "                            attrs={'class': 'd-flex txt_grey flex-wrap'},\n",
    "                            href=True)\n",
    "\n",
    "        # Get links from page source\n",
    "        for link in links:\n",
    "            link_end = link.get(\"href\")\n",
    "            if link_end not in link_list:\n",
    "                link_list.append(link_end)\n",
    "        \n",
    "        if i % 500 == 0:\n",
    "            str_link_list = str(link_list)\n",
    "\n",
    "            with open('link_list2.txt', 'w') as f:\n",
    "                f.write(str_link_list)\n",
    "            print(i)"
   ]
  },
  {
   "cell_type": "code",
   "execution_count": 8,
   "metadata": {},
   "outputs": [],
   "source": [
    "str_link_list = str(link_list)\n",
    "\n",
    "with open('link_list.txt', 'w') as f:\n",
    "    f.write(str_link_list)"
   ]
  },
  {
   "cell_type": "code",
   "execution_count": 12,
   "metadata": {},
   "outputs": [
    {
     "data": {
      "text/plain": [
       "101197"
      ]
     },
     "execution_count": 12,
     "metadata": {},
     "output_type": "execute_result"
    }
   ],
   "source": [
    "len(link_list)"
   ]
  },
  {
   "cell_type": "code",
   "execution_count": 41,
   "metadata": {},
   "outputs": [],
   "source": [
    "def get_fields(soup_in):\n",
    "    # Date\n",
    "    soup_date = soup_in.find(\n",
    "        'span',\n",
    "        attrs={\n",
    "            'class': 'PublicQuestionItem_published_date__v9qn2'\n",
    "            }\n",
    "    ).text\n",
    "\n",
    "    # Title\n",
    "    soup_title = soup_in.find(\n",
    "        'h1',\n",
    "        attrs={\n",
    "            'class': 'PublicQuestionItem_question_title__I4KwB'\n",
    "            }\n",
    "    ).text\n",
    "\n",
    "    # Question\n",
    "    soup_q = soup_in.find(\n",
    "        'span',\n",
    "        attrs={\n",
    "            'class': 'PublicQuestionItem_question_text__dLAHK'\n",
    "            }\n",
    "    ).text\n",
    "\n",
    "    # Answer\n",
    "    soup_answer = soup_in.find(\n",
    "        'span',\n",
    "        attrs={\n",
    "            'class': 'PublicQuestionDetails_answer_text__nhqcw'\n",
    "            }\n",
    "    ).text\n",
    "\n",
    "    return soup_date, soup_title, soup_q, soup_answer"
   ]
  },
  {
   "cell_type": "code",
   "execution_count": 34,
   "metadata": {},
   "outputs": [],
   "source": [
    "id_list = []\n",
    "date_list = []\n",
    "text_list = []\n",
    "title_list = []\n",
    "issues_list = []"
   ]
  },
  {
   "cell_type": "code",
   "execution_count": 48,
   "metadata": {},
   "outputs": [],
   "source": [
    "options = Options()\n",
    "options.add_argument('--headless')\n",
    "options.add_argument('--disable-gpu')\n",
    "driver = webdriver.Chrome(options=options)"
   ]
  },
  {
   "cell_type": "code",
   "execution_count": 52,
   "metadata": {},
   "outputs": [],
   "source": [
    "id = 1\n",
    "\n",
    "for link in link_list:\n",
    "\n",
    "    url = f\"https://lawline.se{link}\"\n",
    "    driver.get(url)\n",
    "    time.sleep(2)\n",
    "    page = driver.page_source\n",
    "    soup = BeautifulSoup(page, 'html.parser')\n",
    "\n",
    "    try:\n",
    "        soup_date, soup_title, soup_q, soup_answer = get_fields(soup)\n",
    "    except:\n",
    "        issues_list.append(link)\n",
    "        continue\n",
    "\n",
    "    if (soup_date is None or soup_title is None or\n",
    "        soup_q is None or soup_answer is None):\n",
    "        issues_list.append(link)\n",
    "        continue\n",
    "    else:\n",
    "        id_list.extend([id, id])\n",
    "        date_list.extend([soup_date, soup_date])\n",
    "        text_list.extend([soup_q, soup_answer])\n",
    "        title_list.extend([soup_title, soup_title])\n",
    "        id += 1\n",
    "    \n",
    "    if id % 500 == 0:\n",
    "        df = pd.DataFrame({'id': id_list, 'date': date_list,\n",
    "                           'text': text_list, 'title': title_list})\n",
    "        df.to_csv('lawline_data.csv', index=False)\n",
    "        print(id)"
   ]
  },
  {
   "cell_type": "code",
   "execution_count": 57,
   "metadata": {},
   "outputs": [],
   "source": [
    "df = pd.DataFrame({'id': id_list, 'date': date_list,\n",
    "                   'text': text_list, 'title': title_list})\n",
    "\n",
    "df_copy = df.copy()\n",
    "\n",
    "df_copy = df_copy.drop_duplicates()"
   ]
  },
  {
   "cell_type": "code",
   "execution_count": 59,
   "metadata": {},
   "outputs": [],
   "source": [
    "df_copy.to_csv('../dataset/lawline_data.csv', index=False)"
   ]
  },
  {
   "cell_type": "code",
   "execution_count": null,
   "metadata": {},
   "outputs": [],
   "source": []
  }
 ],
 "metadata": {
  "interpreter": {
   "hash": "4c2af89399d30c91d2e566ab8110ae6d04c94520d96a5f9e45acefad553bee11"
  },
  "kernelspec": {
   "display_name": "Python 3.9.7 ('t-dab-environment')",
   "language": "python",
   "name": "python3"
  },
  "language_info": {
   "codemirror_mode": {
    "name": "ipython",
    "version": 3
   },
   "file_extension": ".py",
   "mimetype": "text/x-python",
   "name": "python",
   "nbconvert_exporter": "python",
   "pygments_lexer": "ipython3",
   "version": "3.9.7"
  },
  "orig_nbformat": 4
 },
 "nbformat": 4,
 "nbformat_minor": 2
}
