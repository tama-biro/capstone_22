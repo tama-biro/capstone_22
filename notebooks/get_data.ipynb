{
 "cells": [
  {
   "cell_type": "markdown",
   "metadata": {},
   "source": [
    "# Data retrieval script\n",
    "\n",
    "This notebook details the steps used to retrieve data from Lawline and save it to disk."
   ]
  },
  {
   "cell_type": "code",
   "execution_count": null,
   "metadata": {},
   "outputs": [],
   "source": [
    "import time\n",
    "\n",
    "import numpy as np\n",
    "import pandas as pd\n",
    "from bs4 import BeautifulSoup\n",
    "from selenium import webdriver\n",
    "from selenium.webdriver.chrome.options import Options"
   ]
  },
  {
   "cell_type": "code",
   "execution_count": null,
   "metadata": {},
   "outputs": [],
   "source": [
    "link_list = []"
   ]
  },
  {
   "cell_type": "code",
   "execution_count": null,
   "metadata": {},
   "outputs": [],
   "source": [
    "options = Options()\n",
    "options.add_argument(\"--headless\")\n",
    "options.add_argument(\"--disable-gpu\")\n",
    "driver = webdriver.Chrome(options=options)"
   ]
  },
  {
   "cell_type": "code",
   "execution_count": null,
   "metadata": {},
   "outputs": [],
   "source": [
    "for _ in range(5):\n",
    "    max_i = 10146\n",
    "\n",
    "    for i in range(1, max_i):\n",
    "        url = f\"https://lawline.se/categories?page={i}\"\n",
    "        driver.get(url)\n",
    "        time.sleep(3)\n",
    "        page = driver.page_source\n",
    "        soup = BeautifulSoup(page, \"html.parser\")\n",
    "        links = soup.find_all(\n",
    "            \"a\", attrs={\"class\": \"d-flex txt_grey flex-wrap\"}, href=True\n",
    "        )\n",
    "\n",
    "        # Get links from page source\n",
    "        for link in links:\n",
    "            link_end = link.get(\"href\")\n",
    "            if link_end not in link_list:\n",
    "                link_list.append(link_end)\n",
    "\n",
    "        if i % 500 == 0:\n",
    "            str_link_list = str(link_list)\n",
    "\n",
    "            with open(\"link_list2.txt\", \"w\") as f:\n",
    "                f.write(str_link_list)\n",
    "            print(i)"
   ]
  },
  {
   "cell_type": "code",
   "execution_count": null,
   "metadata": {},
   "outputs": [],
   "source": [
    "str_link_list = str(link_list)\n",
    "\n",
    "with open(\"link_list.txt\", \"w\") as f:\n",
    "    f.write(str_link_list)"
   ]
  },
  {
   "cell_type": "code",
   "execution_count": null,
   "metadata": {},
   "outputs": [],
   "source": [
    "len(link_list)"
   ]
  },
  {
   "cell_type": "code",
   "execution_count": null,
   "metadata": {},
   "outputs": [],
   "source": [
    "def get_fields(soup_in):\n",
    "    # Date\n",
    "    soup_date = soup_in.find(\n",
    "        \"span\", attrs={\"class\": \"PublicQuestionItem_published_date__v9qn2\"}\n",
    "    ).text\n",
    "\n",
    "    # Title\n",
    "    soup_title = soup_in.find(\n",
    "        \"h1\", attrs={\"class\": \"PublicQuestionItem_question_title__I4KwB\"}\n",
    "    ).text\n",
    "\n",
    "    # Question\n",
    "    soup_q = soup_in.find(\n",
    "        \"span\", attrs={\"class\": \"PublicQuestionItem_question_text__dLAHK\"}\n",
    "    ).text\n",
    "\n",
    "    # Answer\n",
    "    soup_answer = soup_in.find(\n",
    "        \"span\", attrs={\"class\": \"PublicQuestionDetails_answer_text__nhqcw\"}\n",
    "    ).text\n",
    "\n",
    "    return soup_date, soup_title, soup_q, soup_answer"
   ]
  },
  {
   "cell_type": "code",
   "execution_count": null,
   "metadata": {},
   "outputs": [],
   "source": [
    "id_list = []\n",
    "date_list = []\n",
    "text_list = []\n",
    "title_list = []\n",
    "issues_list = []"
   ]
  },
  {
   "cell_type": "code",
   "execution_count": null,
   "metadata": {},
   "outputs": [],
   "source": [
    "options = Options()\n",
    "options.add_argument(\"--headless\")\n",
    "options.add_argument(\"--disable-gpu\")\n",
    "driver = webdriver.Chrome(options=options)"
   ]
  },
  {
   "cell_type": "code",
   "execution_count": null,
   "metadata": {},
   "outputs": [],
   "source": [
    "id = 1\n",
    "\n",
    "for link in link_list:\n",
    "\n",
    "    url = f\"https://lawline.se{link}\"\n",
    "    driver.get(url)\n",
    "    time.sleep(2)\n",
    "    page = driver.page_source\n",
    "    soup = BeautifulSoup(page, \"html.parser\")\n",
    "\n",
    "    try:\n",
    "        soup_date, soup_title, soup_q, soup_answer = get_fields(soup)\n",
    "    except:\n",
    "        issues_list.append(link)\n",
    "        continue\n",
    "\n",
    "    if soup_date is None or soup_title is None or soup_q is None or soup_answer is None:\n",
    "        issues_list.append(link)\n",
    "        continue\n",
    "    else:\n",
    "        id_list.extend([id, id])\n",
    "        date_list.extend([soup_date, soup_date])\n",
    "        text_list.extend([soup_q, soup_answer])\n",
    "        title_list.extend([soup_title, soup_title])\n",
    "        id += 1\n",
    "\n",
    "    if id % 500 == 0:\n",
    "        df = pd.DataFrame(\n",
    "            {\"id\": id_list, \"date\": date_list, \"text\": text_list, \"title\": title_list}\n",
    "        )\n",
    "        df.to_csv(\"lawline_data.csv\", index=False)\n",
    "        print(id)"
   ]
  },
  {
   "cell_type": "code",
   "execution_count": null,
   "metadata": {},
   "outputs": [],
   "source": [
    "df = pd.DataFrame(\n",
    "    {\"id\": id_list, \"date\": date_list, \"text\": text_list, \"title\": title_list}\n",
    ")\n",
    "\n",
    "df_copy = df.copy()\n",
    "\n",
    "df_copy = df_copy.drop_duplicates()"
   ]
  },
  {
   "cell_type": "code",
   "execution_count": null,
   "metadata": {},
   "outputs": [],
   "source": [
    "df_copy.to_csv(\"../dataset/lawline_data.csv\", index=False)"
   ]
  },
  {
   "cell_type": "code",
   "execution_count": null,
   "metadata": {},
   "outputs": [],
   "source": []
  }
 ],
 "metadata": {
  "interpreter": {
   "hash": "4c2af89399d30c91d2e566ab8110ae6d04c94520d96a5f9e45acefad553bee11"
  },
  "kernelspec": {
   "display_name": "Python 3.9.7 ('t-dab-environment')",
   "language": "python",
   "name": "python3"
  },
  "language_info": {
   "codemirror_mode": {
    "name": "ipython",
    "version": 3
   },
   "file_extension": ".py",
   "mimetype": "text/x-python",
   "name": "python",
   "nbconvert_exporter": "python",
   "pygments_lexer": "ipython3",
   "version": "3.9.7"
  }
 },
 "nbformat": 4,
 "nbformat_minor": 2
}
