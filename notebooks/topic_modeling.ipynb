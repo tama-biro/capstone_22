{
 "cells": [
  {
   "cell_type": "markdown",
   "metadata": {},
   "source": [
    "# Topic modeling notebook\n",
    "\n",
    "This notebook details the steps taken to clean the data and run topic modeling"
   ]
  },
  {
   "cell_type": "code",
   "execution_count": null,
   "metadata": {},
   "outputs": [],
   "source": [
    "import pickle\n",
    "from datetime import datetime\n",
    "\n",
    "import numpy as np\n",
    "import pandas as pd\n",
    "import textstat\n",
    "from gensim.utils import simple_preprocess\n",
    "from lexical_diversity import lex_div as ld\n",
    "from nltk.corpus import stopwords\n",
    "from nltk.stem.snowball import SwedishStemmer\n",
    "from sklearn.decomposition import LatentDirichletAllocation as LDA\n",
    "from sklearn.feature_extraction.text import CountVectorizer\n",
    "from sklearn.model_selection import GridSearchCV"
   ]
  },
  {
   "cell_type": "markdown",
   "metadata": {},
   "source": [
    "Import data"
   ]
  },
  {
   "cell_type": "code",
   "execution_count": null,
   "metadata": {},
   "outputs": [],
   "source": [
    "df_full = pd.read_csv(\"../dataset/lawline_data.csv\")"
   ]
  },
  {
   "cell_type": "markdown",
   "metadata": {},
   "source": [
    "Make new column with lowercase texts and remove all whitespace plus tabs/newlines"
   ]
  },
  {
   "cell_type": "code",
   "execution_count": null,
   "metadata": {},
   "outputs": [],
   "source": [
    "# Get only questions(::2)/answers(1::2)\n",
    "df = df_full.iloc[::2, :]"
   ]
  },
  {
   "cell_type": "code",
   "execution_count": null,
   "metadata": {},
   "outputs": [],
   "source": [
    "df[\"text_clean\"] = df[\"text\"].str.lower()\n",
    "df[\"text_clean\"] = [\" \".join(str(item).split()) for item in df[\"text_clean\"]]"
   ]
  },
  {
   "cell_type": "markdown",
   "metadata": {},
   "source": [
    "Remove punctuation"
   ]
  },
  {
   "cell_type": "code",
   "execution_count": null,
   "metadata": {},
   "outputs": [],
   "source": [
    "df[\"text_clean\"] = df[\"text_clean\"].str.replace(\"[^\\w\\s]\", \"\")"
   ]
  },
  {
   "cell_type": "markdown",
   "metadata": {},
   "source": [
    "Remove numbers and replace more than one whitespace with single whitespace"
   ]
  },
  {
   "cell_type": "code",
   "execution_count": null,
   "metadata": {},
   "outputs": [],
   "source": [
    "df[\"text_clean\"] = df[\"text_clean\"].str.replace(\"[0-9]\", \"\")\n",
    "df[\"text_clean\"] = df[\"text_clean\"].str.replace(\"\\s{2,}\", \" \")"
   ]
  },
  {
   "cell_type": "code",
   "execution_count": null,
   "metadata": {},
   "outputs": [],
   "source": [
    "# Removing stopwords function\n",
    "def remove_stopwords(texts, stop_words):\n",
    "    return [\n",
    "        [word for word in simple_preprocess(str(doc)) if word not in stop_words]\n",
    "        for doc in texts\n",
    "    ]"
   ]
  },
  {
   "cell_type": "markdown",
   "metadata": {},
   "source": [
    "Turn texts to list of words and remove stop words. Then turn texts to term document frequency corpus."
   ]
  },
  {
   "cell_type": "code",
   "execution_count": null,
   "metadata": {},
   "outputs": [],
   "source": [
    "# Turn texts to list\n",
    "list_texts = df[\"text_clean\"].values.tolist()"
   ]
  },
  {
   "cell_type": "code",
   "execution_count": null,
   "metadata": {},
   "outputs": [],
   "source": [
    "stop_words = stopwords.words(\"swedish\")\n",
    "stop_words.extend(\n",
    "    [\n",
    "        \"hej\",\n",
    "        \"ska\",\n",
    "        \"in\",\n",
    "        \"vill\",\n",
    "        \"alltså\",\n",
    "        \"lawline\",\n",
    "        \"även\",\n",
    "        \"kommer\",\n",
    "        \"fråga\",\n",
    "        \"finns\",\n",
    "        \"gör\",\n",
    "        \"får\",\n",
    "        \"få\",\n",
    "        \"gäll\",\n",
    "        \"tack\",\n",
    "        \"dock\",\n",
    "        \"kap\",\n",
    "        \"fall\",\n",
    "        \"säg\",\n",
    "        \"svar\",\n",
    "        \"rätt\",\n",
    "        \"enl\",\n",
    "        \"måst\",\n",
    "    ]\n",
    ")\n",
    "\n",
    "text_words = remove_stopwords(list_texts, stop_words)"
   ]
  },
  {
   "cell_type": "markdown",
   "metadata": {},
   "source": [
    "Stem words"
   ]
  },
  {
   "cell_type": "code",
   "execution_count": null,
   "metadata": {},
   "outputs": [],
   "source": [
    "stemmer = SwedishStemmer()\n",
    "\n",
    "text_stemmed = [[stemmer.stem(word) for word in doc] for doc in text_words]"
   ]
  },
  {
   "cell_type": "code",
   "execution_count": null,
   "metadata": {},
   "outputs": [],
   "source": [
    "docs_stemmed = [\" \".join(doc) for doc in text_stemmed]"
   ]
  },
  {
   "cell_type": "code",
   "execution_count": null,
   "metadata": {},
   "outputs": [],
   "source": [
    "cv = CountVectorizer(min_df=0.05, max_df=0.7, stop_words=stop_words)\n",
    "\n",
    "trunc_texts = cv.fit_transform(docs_stemmed)"
   ]
  },
  {
   "cell_type": "markdown",
   "metadata": {},
   "source": [
    "Train LDA model on corpus with differing number of topics"
   ]
  },
  {
   "cell_type": "code",
   "execution_count": null,
   "metadata": {},
   "outputs": [],
   "source": [
    "# n_components = [3, 4, 5, 6, 7, 8, 9, 10, 12, 15, 20]\n",
    "n_components = [6]\n",
    "grid = {\n",
    "    \"doc_topic_prior\": [0.1, 0.5, 1, 5, 10],\n",
    "    \"topic_word_prior\": [0.1, 0.5, 1, 5, 10],\n",
    "    \"learning_decay\": [0.5, 0.7, 1],\n",
    "}\n",
    "\n",
    "lda_list = []\n",
    "for n_topics in n_components:\n",
    "\n",
    "    mod = LDA(\n",
    "        max_iter=10,\n",
    "        learning_method=\"online\",\n",
    "        random_state=42,\n",
    "        batch_size=128,\n",
    "        evaluate_every=-1,\n",
    "        n_components=n_topics,\n",
    "    )\n",
    "\n",
    "    clf = GridSearchCV(mod, param_grid=grid, n_jobs=6, verbose=1)\n",
    "\n",
    "    clf.fit(trunc_texts)\n",
    "\n",
    "    lda_list.append(clf)"
   ]
  },
  {
   "cell_type": "code",
   "execution_count": null,
   "metadata": {},
   "outputs": [],
   "source": [
    "model = lda_list[0].best_estimator_"
   ]
  },
  {
   "cell_type": "code",
   "execution_count": null,
   "metadata": {},
   "outputs": [],
   "source": [
    "model.fit(trunc_texts)"
   ]
  },
  {
   "cell_type": "code",
   "execution_count": null,
   "metadata": {},
   "outputs": [],
   "source": [
    "def show_topics(vectorizer, lda_model, n_words=10):\n",
    "    keywords = np.array(vectorizer.get_feature_names_out())\n",
    "    topic_keywords = []\n",
    "    for topic_weights in lda_model.components_:\n",
    "        top_keyword_locs = (-topic_weights).argsort()[:n_words]\n",
    "        topic_keywords.append(keywords.take(top_keyword_locs))\n",
    "    return topic_keywords"
   ]
  },
  {
   "cell_type": "code",
   "execution_count": null,
   "metadata": {},
   "outputs": [],
   "source": [
    "topic_keywords = show_topics(vectorizer=cv, lda_model=model, n_words=10)"
   ]
  },
  {
   "cell_type": "code",
   "execution_count": null,
   "metadata": {},
   "outputs": [],
   "source": [
    "df_topic_keywords = pd.DataFrame(topic_keywords)\n",
    "df_topic_keywords.columns = [\n",
    "    \"Word \" + str(i) for i in range(df_topic_keywords.shape[1])\n",
    "]\n",
    "df_topic_keywords.index = [\"Topic \" + str(i) for i in range(df_topic_keywords.shape[0])]\n",
    "df_topic_keywords.transpose()"
   ]
  },
  {
   "cell_type": "markdown",
   "metadata": {},
   "source": [
    "Save model with pickle"
   ]
  },
  {
   "cell_type": "code",
   "execution_count": null,
   "metadata": {},
   "outputs": [],
   "source": [
    "model_name = \"../models/lda_q_6.pkl\"\n",
    "with open(model_name, \"wb\") as f:\n",
    "    pickle.dump(model, f)"
   ]
  },
  {
   "cell_type": "code",
   "execution_count": null,
   "metadata": {},
   "outputs": [],
   "source": [
    "model_name = \"../models/lda_q_6.pkl\"\n",
    "with open(model_name, \"rb\") as f:\n",
    "    model = pickle.load(f)"
   ]
  },
  {
   "cell_type": "markdown",
   "metadata": {},
   "source": [
    "Get topic distribution, downsample to monthly average and save"
   ]
  },
  {
   "cell_type": "code",
   "execution_count": null,
   "metadata": {},
   "outputs": [],
   "source": [
    "topic_dists = model.transform(trunc_texts)"
   ]
  },
  {
   "cell_type": "code",
   "execution_count": null,
   "metadata": {},
   "outputs": [],
   "source": [
    "topic_dists[0]"
   ]
  },
  {
   "cell_type": "code",
   "execution_count": null,
   "metadata": {},
   "outputs": [],
   "source": [
    "df_topic_q = pd.DataFrame(topic_dists, columns=[f\"topic_{i}\" for i in range(6)])"
   ]
  },
  {
   "cell_type": "code",
   "execution_count": null,
   "metadata": {},
   "outputs": [],
   "source": [
    "from datetime import datetime\n",
    "\n",
    "df_topic_q[\"date\"] = [\n",
    "    datetime.strptime(date_str, \"%d/%m/%Y\") for date_str in df[\"date\"].values\n",
    "]"
   ]
  },
  {
   "cell_type": "code",
   "execution_count": null,
   "metadata": {},
   "outputs": [],
   "source": [
    "df_topic_q.set_index(\"date\", drop=True, inplace=True)"
   ]
  },
  {
   "cell_type": "code",
   "execution_count": null,
   "metadata": {},
   "outputs": [],
   "source": [
    "df_topic_q_down = df_topic_q.resample(\"M\").mean()"
   ]
  },
  {
   "cell_type": "code",
   "execution_count": null,
   "metadata": {},
   "outputs": [],
   "source": [
    "df_topic_q_down.to_csv(\"../dataset/topic_q_downsampled.csv\")"
   ]
  },
  {
   "cell_type": "code",
   "execution_count": null,
   "metadata": {},
   "outputs": [],
   "source": []
  }
 ],
 "metadata": {
  "kernelspec": {
   "display_name": "Python 3.9.7 ('capstone')",
   "language": "python",
   "name": "python3"
  },
  "language_info": {
   "codemirror_mode": {
    "name": "ipython",
    "version": 3
   },
   "file_extension": ".py",
   "mimetype": "text/x-python",
   "name": "python",
   "nbconvert_exporter": "python",
   "pygments_lexer": "ipython3",
   "version": "3.9.7"
  },
  "vscode": {
   "interpreter": {
    "hash": "276a14dae6666bcb6ed89d918896adede68a2b9bdb45438fbd6182b59f67b49f"
   }
  }
 },
 "nbformat": 4,
 "nbformat_minor": 4
}
