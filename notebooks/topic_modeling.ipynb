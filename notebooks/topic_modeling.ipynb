{
 "cells": [
  {
   "cell_type": "markdown",
   "metadata": {},
   "source": [
    "# Topic modeling notebook\n",
    "\n",
    "This notebook details the steps taken to clean the data and run topic modeling"
   ]
  },
  {
   "cell_type": "code",
   "execution_count": 45,
   "metadata": {},
   "outputs": [],
   "source": [
    "import gensim.corpora as corpora\n",
    "import numpy as np\n",
    "import pandas as pd\n",
    "from gensim.utils import simple_preprocess\n",
    "from nltk.corpus import stopwords\n",
    "from nltk.stem.snowball import SwedishStemmer\n",
    "from sklearn.decomposition import LatentDirichletAllocation as LDA\n",
    "from sklearn.model_selection import GridSearchCV, RandomizedSearchCV"
   ]
  },
  {
   "cell_type": "markdown",
   "metadata": {},
   "source": [
    "Import data"
   ]
  },
  {
   "cell_type": "code",
   "execution_count": 46,
   "metadata": {},
   "outputs": [],
   "source": [
    "df_full = pd.read_csv(\"../dataset/lawline_data.csv\")"
   ]
  },
  {
   "cell_type": "markdown",
   "metadata": {},
   "source": [
    "Make new column with lowercase texts and remove all whitespace plus tabs/newlines"
   ]
  },
  {
   "cell_type": "code",
   "execution_count": 47,
   "metadata": {},
   "outputs": [],
   "source": [
    "# Get only questions(::2)/answers(1::2)\n",
    "df = df_full.iloc[::2, :]"
   ]
  },
  {
   "cell_type": "code",
   "execution_count": 48,
   "metadata": {},
   "outputs": [
    {
     "name": "stderr",
     "output_type": "stream",
     "text": [
      "C:\\Users\\samue\\AppData\\Local\\Temp\\ipykernel_30292\\2512645272.py:1: SettingWithCopyWarning: \n",
      "A value is trying to be set on a copy of a slice from a DataFrame.\n",
      "Try using .loc[row_indexer,col_indexer] = value instead\n",
      "\n",
      "See the caveats in the documentation: https://pandas.pydata.org/pandas-docs/stable/user_guide/indexing.html#returning-a-view-versus-a-copy\n",
      "  df[\"text_clean\"] = df[\"text\"].str.lower()\n",
      "C:\\Users\\samue\\AppData\\Local\\Temp\\ipykernel_30292\\2512645272.py:2: SettingWithCopyWarning: \n",
      "A value is trying to be set on a copy of a slice from a DataFrame.\n",
      "Try using .loc[row_indexer,col_indexer] = value instead\n",
      "\n",
      "See the caveats in the documentation: https://pandas.pydata.org/pandas-docs/stable/user_guide/indexing.html#returning-a-view-versus-a-copy\n",
      "  df[\"text_clean\"] = [\" \".join(str(item).split()) for item in df[\"text_clean\"]]\n"
     ]
    }
   ],
   "source": [
    "df[\"text_clean\"] = df[\"text\"].str.lower()\n",
    "df[\"text_clean\"] = [\" \".join(str(item).split()) for item in df[\"text_clean\"]]"
   ]
  },
  {
   "cell_type": "markdown",
   "metadata": {},
   "source": [
    "Remove punctuation"
   ]
  },
  {
   "cell_type": "code",
   "execution_count": 49,
   "metadata": {},
   "outputs": [
    {
     "name": "stderr",
     "output_type": "stream",
     "text": [
      "C:\\Users\\samue\\AppData\\Local\\Temp\\ipykernel_30292\\1299325099.py:1: FutureWarning: The default value of regex will change from True to False in a future version.\n",
      "  df[\"text_clean\"] = df[\"text_clean\"].str.replace(\"[^\\w\\s]\", \"\")\n",
      "C:\\Users\\samue\\AppData\\Local\\Temp\\ipykernel_30292\\1299325099.py:1: SettingWithCopyWarning: \n",
      "A value is trying to be set on a copy of a slice from a DataFrame.\n",
      "Try using .loc[row_indexer,col_indexer] = value instead\n",
      "\n",
      "See the caveats in the documentation: https://pandas.pydata.org/pandas-docs/stable/user_guide/indexing.html#returning-a-view-versus-a-copy\n",
      "  df[\"text_clean\"] = df[\"text_clean\"].str.replace(\"[^\\w\\s]\", \"\")\n"
     ]
    }
   ],
   "source": [
    "df[\"text_clean\"] = df[\"text_clean\"].str.replace(\"[^\\w\\s]\", \"\")"
   ]
  },
  {
   "cell_type": "markdown",
   "metadata": {},
   "source": [
    "Remove numbers and replace more than one whitespace with single whitespace"
   ]
  },
  {
   "cell_type": "code",
   "execution_count": 50,
   "metadata": {},
   "outputs": [
    {
     "name": "stderr",
     "output_type": "stream",
     "text": [
      "C:\\Users\\samue\\AppData\\Local\\Temp\\ipykernel_30292\\147325655.py:1: FutureWarning: The default value of regex will change from True to False in a future version.\n",
      "  df[\"text_clean\"] = df[\"text_clean\"].str.replace(\"[0-9]\", \"\")\n",
      "C:\\Users\\samue\\AppData\\Local\\Temp\\ipykernel_30292\\147325655.py:1: SettingWithCopyWarning: \n",
      "A value is trying to be set on a copy of a slice from a DataFrame.\n",
      "Try using .loc[row_indexer,col_indexer] = value instead\n",
      "\n",
      "See the caveats in the documentation: https://pandas.pydata.org/pandas-docs/stable/user_guide/indexing.html#returning-a-view-versus-a-copy\n",
      "  df[\"text_clean\"] = df[\"text_clean\"].str.replace(\"[0-9]\", \"\")\n",
      "C:\\Users\\samue\\AppData\\Local\\Temp\\ipykernel_30292\\147325655.py:2: FutureWarning: The default value of regex will change from True to False in a future version.\n",
      "  df[\"text_clean\"] = df[\"text_clean\"].str.replace(\"\\s{2,}\", \" \")\n",
      "C:\\Users\\samue\\AppData\\Local\\Temp\\ipykernel_30292\\147325655.py:2: SettingWithCopyWarning: \n",
      "A value is trying to be set on a copy of a slice from a DataFrame.\n",
      "Try using .loc[row_indexer,col_indexer] = value instead\n",
      "\n",
      "See the caveats in the documentation: https://pandas.pydata.org/pandas-docs/stable/user_guide/indexing.html#returning-a-view-versus-a-copy\n",
      "  df[\"text_clean\"] = df[\"text_clean\"].str.replace(\"\\s{2,}\", \" \")\n"
     ]
    }
   ],
   "source": [
    "df[\"text_clean\"] = df[\"text_clean\"].str.replace(\"[0-9]\", \"\")\n",
    "df[\"text_clean\"] = df[\"text_clean\"].str.replace(\"\\s{2,}\", \" \")"
   ]
  },
  {
   "cell_type": "code",
   "execution_count": 51,
   "metadata": {},
   "outputs": [],
   "source": [
    "# Removing stopwords function\n",
    "def remove_stopwords(texts, stop_words):\n",
    "    return [\n",
    "        [word for word in simple_preprocess(str(doc)) if word not in stop_words]\n",
    "        for doc in texts\n",
    "    ]"
   ]
  },
  {
   "cell_type": "markdown",
   "metadata": {},
   "source": [
    "Turn texts to list of words and remove stop words. Then turn texts to term document frequency corpus."
   ]
  },
  {
   "cell_type": "code",
   "execution_count": 52,
   "metadata": {},
   "outputs": [],
   "source": [
    "# Turn texts to list\n",
    "list_texts = df[\"text_clean\"].values.tolist()"
   ]
  },
  {
   "cell_type": "code",
   "execution_count": 126,
   "metadata": {},
   "outputs": [],
   "source": [
    "stop_words = stopwords.words(\"swedish\")\n",
    "stop_words.extend([\n",
    "    \"hej\", \"ska\", \"in\", \"vill\", \"alltså\", \"lawline\", \"även\",\n",
    "    \"kommer\", \"fråga\", \"finns\", 'gör', 'får', 'få', 'gäll', 'tack',\n",
    "    'dock', 'kap'\n",
    "    ])\n",
    "\n",
    "text_words = remove_stopwords(list_texts, stop_words)"
   ]
  },
  {
   "cell_type": "markdown",
   "metadata": {},
   "source": [
    "Stem words"
   ]
  },
  {
   "cell_type": "code",
   "execution_count": 96,
   "metadata": {},
   "outputs": [],
   "source": [
    "stemmer = SwedishStemmer()\n",
    "\n",
    "text_stemmed = [[stemmer.stem(word) for word in doc] for doc in text_words]"
   ]
  },
  {
   "cell_type": "code",
   "execution_count": 127,
   "metadata": {},
   "outputs": [],
   "source": [
    "docs_stemmed = [\" \".join(doc) for doc in text_stemmed]"
   ]
  },
  {
   "cell_type": "code",
   "execution_count": 128,
   "metadata": {},
   "outputs": [],
   "source": [
    "from sklearn.feature_extraction.text import CountVectorizer\n",
    "\n",
    "cv = CountVectorizer(min_df=0.05, max_df=0.7,\n",
    "                     stop_words=stop_words)\n",
    "\n",
    "trunc_texts = cv.fit_transform(docs_stemmed)"
   ]
  },
  {
   "cell_type": "markdown",
   "metadata": {},
   "source": [
    "Train LDA model on corpus with differing number of topics"
   ]
  },
  {
   "cell_type": "code",
   "execution_count": 129,
   "metadata": {},
   "outputs": [
    {
     "name": "stdout",
     "output_type": "stream",
     "text": [
      "Fitting 5 folds for each of 75 candidates, totalling 375 fits\n",
      "Fitting 5 folds for each of 75 candidates, totalling 375 fits\n"
     ]
    }
   ],
   "source": [
    "# n_components = [3, 4, 5, 6, 7, 8, 9, 10, 12, 15, 20]\n",
    "n_components = [3, 4, 5, 6]\n",
    "\n",
    "grid = {\n",
    "    'doc_topic_prior': [.1, .5, 1, 5, 10],\n",
    "    'topic_word_prior': [.1, .5, 1, 5, 10],\n",
    "    'learning_decay': [.5, .7, 1]\n",
    "}\n",
    "\n",
    "lda_list = []\n",
    "for n_topics in n_components:\n",
    "\n",
    "    mod = LDA(\n",
    "        max_iter=10,\n",
    "        learning_method=\"online\",\n",
    "        random_state=42,\n",
    "        batch_size=128,\n",
    "        evaluate_every=-1,\n",
    "        n_components=n_topics,\n",
    "    )\n",
    "\n",
    "    clf = GridSearchCV(mod, param_grid=grid, n_jobs=-1, verbose=1)\n",
    "\n",
    "    clf.fit(trunc_texts)\n",
    "\n",
    "    lda_list.append(clf)"
   ]
  },
  {
   "cell_type": "code",
   "execution_count": 122,
   "metadata": {},
   "outputs": [],
   "source": [
    "model = lda_list[4].best_estimator_"
   ]
  },
  {
   "cell_type": "code",
   "execution_count": 123,
   "metadata": {},
   "outputs": [
    {
     "data": {
      "text/html": [
       "<style>#sk-container-id-14 {color: black;background-color: white;}#sk-container-id-14 pre{padding: 0;}#sk-container-id-14 div.sk-toggleable {background-color: white;}#sk-container-id-14 label.sk-toggleable__label {cursor: pointer;display: block;width: 100%;margin-bottom: 0;padding: 0.3em;box-sizing: border-box;text-align: center;}#sk-container-id-14 label.sk-toggleable__label-arrow:before {content: \"▸\";float: left;margin-right: 0.25em;color: #696969;}#sk-container-id-14 label.sk-toggleable__label-arrow:hover:before {color: black;}#sk-container-id-14 div.sk-estimator:hover label.sk-toggleable__label-arrow:before {color: black;}#sk-container-id-14 div.sk-toggleable__content {max-height: 0;max-width: 0;overflow: hidden;text-align: left;background-color: #f0f8ff;}#sk-container-id-14 div.sk-toggleable__content pre {margin: 0.2em;color: black;border-radius: 0.25em;background-color: #f0f8ff;}#sk-container-id-14 input.sk-toggleable__control:checked~div.sk-toggleable__content {max-height: 200px;max-width: 100%;overflow: auto;}#sk-container-id-14 input.sk-toggleable__control:checked~label.sk-toggleable__label-arrow:before {content: \"▾\";}#sk-container-id-14 div.sk-estimator input.sk-toggleable__control:checked~label.sk-toggleable__label {background-color: #d4ebff;}#sk-container-id-14 div.sk-label input.sk-toggleable__control:checked~label.sk-toggleable__label {background-color: #d4ebff;}#sk-container-id-14 input.sk-hidden--visually {border: 0;clip: rect(1px 1px 1px 1px);clip: rect(1px, 1px, 1px, 1px);height: 1px;margin: -1px;overflow: hidden;padding: 0;position: absolute;width: 1px;}#sk-container-id-14 div.sk-estimator {font-family: monospace;background-color: #f0f8ff;border: 1px dotted black;border-radius: 0.25em;box-sizing: border-box;margin-bottom: 0.5em;}#sk-container-id-14 div.sk-estimator:hover {background-color: #d4ebff;}#sk-container-id-14 div.sk-parallel-item::after {content: \"\";width: 100%;border-bottom: 1px solid gray;flex-grow: 1;}#sk-container-id-14 div.sk-label:hover label.sk-toggleable__label {background-color: #d4ebff;}#sk-container-id-14 div.sk-serial::before {content: \"\";position: absolute;border-left: 1px solid gray;box-sizing: border-box;top: 0;bottom: 0;left: 50%;z-index: 0;}#sk-container-id-14 div.sk-serial {display: flex;flex-direction: column;align-items: center;background-color: white;padding-right: 0.2em;padding-left: 0.2em;position: relative;}#sk-container-id-14 div.sk-item {position: relative;z-index: 1;}#sk-container-id-14 div.sk-parallel {display: flex;align-items: stretch;justify-content: center;background-color: white;position: relative;}#sk-container-id-14 div.sk-item::before, #sk-container-id-14 div.sk-parallel-item::before {content: \"\";position: absolute;border-left: 1px solid gray;box-sizing: border-box;top: 0;bottom: 0;left: 50%;z-index: -1;}#sk-container-id-14 div.sk-parallel-item {display: flex;flex-direction: column;z-index: 1;position: relative;background-color: white;}#sk-container-id-14 div.sk-parallel-item:first-child::after {align-self: flex-end;width: 50%;}#sk-container-id-14 div.sk-parallel-item:last-child::after {align-self: flex-start;width: 50%;}#sk-container-id-14 div.sk-parallel-item:only-child::after {width: 0;}#sk-container-id-14 div.sk-dashed-wrapped {border: 1px dashed gray;margin: 0 0.4em 0.5em 0.4em;box-sizing: border-box;padding-bottom: 0.4em;background-color: white;}#sk-container-id-14 div.sk-label label {font-family: monospace;font-weight: bold;display: inline-block;line-height: 1.2em;}#sk-container-id-14 div.sk-label-container {text-align: center;}#sk-container-id-14 div.sk-container {/* jupyter's `normalize.less` sets `[hidden] { display: none; }` but bootstrap.min.css set `[hidden] { display: none !important; }` so we also need the `!important` here to be able to override the default hidden behavior on the sphinx rendered scikit-learn.org. See: https://github.com/scikit-learn/scikit-learn/issues/21755 */display: inline-block !important;position: relative;}#sk-container-id-14 div.sk-text-repr-fallback {display: none;}</style><div id=\"sk-container-id-14\" class=\"sk-top-container\"><div class=\"sk-text-repr-fallback\"><pre>LatentDirichletAllocation(doc_topic_prior=0.1, learning_method=&#x27;online&#x27;,\n",
       "                          n_components=7, random_state=42, topic_word_prior=5)</pre><b>In a Jupyter environment, please rerun this cell to show the HTML representation or trust the notebook. <br />On GitHub, the HTML representation is unable to render, please try loading this page with nbviewer.org.</b></div><div class=\"sk-container\" hidden><div class=\"sk-item\"><div class=\"sk-estimator sk-toggleable\"><input class=\"sk-toggleable__control sk-hidden--visually\" id=\"sk-estimator-id-14\" type=\"checkbox\" checked><label for=\"sk-estimator-id-14\" class=\"sk-toggleable__label sk-toggleable__label-arrow\">LatentDirichletAllocation</label><div class=\"sk-toggleable__content\"><pre>LatentDirichletAllocation(doc_topic_prior=0.1, learning_method=&#x27;online&#x27;,\n",
       "                          n_components=7, random_state=42, topic_word_prior=5)</pre></div></div></div></div></div>"
      ],
      "text/plain": [
       "LatentDirichletAllocation(doc_topic_prior=0.1, learning_method='online',\n",
       "                          n_components=7, random_state=42, topic_word_prior=5)"
      ]
     },
     "execution_count": 123,
     "metadata": {},
     "output_type": "execute_result"
    }
   ],
   "source": [
    "model.fit(trunc_texts)"
   ]
  },
  {
   "cell_type": "code",
   "execution_count": null,
   "metadata": {},
   "outputs": [],
   "source": [
    "perp_list = [mod.best_estimator_.fit(trunc_texts).perplexity(trunc_texts) for mod in lda_list]"
   ]
  },
  {
   "cell_type": "code",
   "execution_count": null,
   "metadata": {},
   "outputs": [],
   "source": [
    "perp_list"
   ]
  },
  {
   "cell_type": "code",
   "execution_count": null,
   "metadata": {},
   "outputs": [],
   "source": [
    "model = lda_list[1]"
   ]
  },
  {
   "cell_type": "code",
   "execution_count": 35,
   "metadata": {},
   "outputs": [
    {
     "data": {
      "text/plain": [
       "array([[0.53279297, 0.22178771, 0.24541932],\n",
       "       [0.32000544, 0.31194701, 0.36804755],\n",
       "       [0.09642113, 0.64713961, 0.25643926],\n",
       "       ...,\n",
       "       [0.22011287, 0.71418488, 0.06570225],\n",
       "       [0.33333333, 0.33333333, 0.33333333],\n",
       "       [0.1666755 , 0.66656293, 0.16676158]])"
      ]
     },
     "execution_count": 35,
     "metadata": {},
     "output_type": "execute_result"
    }
   ],
   "source": [
    "model.fit_transform(trunc_texts)"
   ]
  },
  {
   "cell_type": "code",
   "execution_count": 114,
   "metadata": {},
   "outputs": [],
   "source": [
    "topicnames = [\"Topic\" + str(i) for i in range(model.n_components)]\n",
    "df_topic_keywords = pd.DataFrame(model.components_)\n",
    "df_topic_keywords.index = topicnames"
   ]
  },
  {
   "cell_type": "code",
   "execution_count": 109,
   "metadata": {},
   "outputs": [
    {
     "data": {
      "text/html": [
       "<div>\n",
       "<style scoped>\n",
       "    .dataframe tbody tr th:only-of-type {\n",
       "        vertical-align: middle;\n",
       "    }\n",
       "\n",
       "    .dataframe tbody tr th {\n",
       "        vertical-align: top;\n",
       "    }\n",
       "\n",
       "    .dataframe thead th {\n",
       "        text-align: right;\n",
       "    }\n",
       "</style>\n",
       "<table border=\"1\" class=\"dataframe\">\n",
       "  <thead>\n",
       "    <tr style=\"text-align: right;\">\n",
       "      <th></th>\n",
       "      <th>0</th>\n",
       "      <th>1</th>\n",
       "      <th>2</th>\n",
       "      <th>3</th>\n",
       "      <th>4</th>\n",
       "      <th>5</th>\n",
       "      <th>6</th>\n",
       "      <th>7</th>\n",
       "      <th>8</th>\n",
       "      <th>9</th>\n",
       "      <th>...</th>\n",
       "      <th>261</th>\n",
       "      <th>262</th>\n",
       "      <th>263</th>\n",
       "      <th>264</th>\n",
       "      <th>265</th>\n",
       "      <th>266</th>\n",
       "      <th>267</th>\n",
       "      <th>268</th>\n",
       "      <th>269</th>\n",
       "      <th>270</th>\n",
       "    </tr>\n",
       "  </thead>\n",
       "  <tbody>\n",
       "    <tr>\n",
       "      <th>Topic0</th>\n",
       "      <td>974.502029</td>\n",
       "      <td>2.746280</td>\n",
       "      <td>357.513824</td>\n",
       "      <td>735.799788</td>\n",
       "      <td>1014.209603</td>\n",
       "      <td>851.369281</td>\n",
       "      <td>2591.168847</td>\n",
       "      <td>1600.113360</td>\n",
       "      <td>753.179773</td>\n",
       "      <td>4785.990668</td>\n",
       "      <td>...</td>\n",
       "      <td>959.177653</td>\n",
       "      <td>1817.220477</td>\n",
       "      <td>785.689470</td>\n",
       "      <td>1.024256</td>\n",
       "      <td>1495.902653</td>\n",
       "      <td>1662.054941</td>\n",
       "      <td>1.072140</td>\n",
       "      <td>1.039218</td>\n",
       "      <td>3004.114444</td>\n",
       "      <td>724.660161</td>\n",
       "    </tr>\n",
       "    <tr>\n",
       "      <th>Topic1</th>\n",
       "      <td>660.930155</td>\n",
       "      <td>1.577175</td>\n",
       "      <td>1013.919953</td>\n",
       "      <td>5577.830733</td>\n",
       "      <td>30.584184</td>\n",
       "      <td>35.546267</td>\n",
       "      <td>51.941883</td>\n",
       "      <td>1396.325853</td>\n",
       "      <td>21.865761</td>\n",
       "      <td>12.259241</td>\n",
       "      <td>...</td>\n",
       "      <td>621.744963</td>\n",
       "      <td>10.356907</td>\n",
       "      <td>28.466301</td>\n",
       "      <td>1.087586</td>\n",
       "      <td>2640.487589</td>\n",
       "      <td>894.097232</td>\n",
       "      <td>239.676559</td>\n",
       "      <td>1.105247</td>\n",
       "      <td>17024.501757</td>\n",
       "      <td>159.023412</td>\n",
       "    </tr>\n",
       "    <tr>\n",
       "      <th>Topic2</th>\n",
       "      <td>1720.669600</td>\n",
       "      <td>9525.406639</td>\n",
       "      <td>5166.061231</td>\n",
       "      <td>25872.884320</td>\n",
       "      <td>5916.331441</td>\n",
       "      <td>6085.945300</td>\n",
       "      <td>14639.206932</td>\n",
       "      <td>15173.879441</td>\n",
       "      <td>4975.699913</td>\n",
       "      <td>20328.993597</td>\n",
       "      <td>...</td>\n",
       "      <td>2271.467920</td>\n",
       "      <td>1147.643647</td>\n",
       "      <td>4729.134523</td>\n",
       "      <td>1.062531</td>\n",
       "      <td>688.329004</td>\n",
       "      <td>3148.645345</td>\n",
       "      <td>1.039709</td>\n",
       "      <td>1.101836</td>\n",
       "      <td>15319.971674</td>\n",
       "      <td>4625.443772</td>\n",
       "    </tr>\n",
       "    <tr>\n",
       "      <th>Topic3</th>\n",
       "      <td>4504.077371</td>\n",
       "      <td>230.728130</td>\n",
       "      <td>2635.686287</td>\n",
       "      <td>9681.274296</td>\n",
       "      <td>1581.651530</td>\n",
       "      <td>614.515467</td>\n",
       "      <td>3774.008613</td>\n",
       "      <td>2385.465760</td>\n",
       "      <td>1301.985113</td>\n",
       "      <td>1975.482077</td>\n",
       "      <td>...</td>\n",
       "      <td>1760.220742</td>\n",
       "      <td>5946.673809</td>\n",
       "      <td>1201.536211</td>\n",
       "      <td>16942.225886</td>\n",
       "      <td>4649.365067</td>\n",
       "      <td>932.567511</td>\n",
       "      <td>20811.486421</td>\n",
       "      <td>12403.438164</td>\n",
       "      <td>446.123321</td>\n",
       "      <td>1766.062687</td>\n",
       "    </tr>\n",
       "  </tbody>\n",
       "</table>\n",
       "<p>4 rows × 271 columns</p>\n",
       "</div>"
      ],
      "text/plain": [
       "                0            1            2             3            4    \\\n",
       "Topic0   974.502029     2.746280   357.513824    735.799788  1014.209603   \n",
       "Topic1   660.930155     1.577175  1013.919953   5577.830733    30.584184   \n",
       "Topic2  1720.669600  9525.406639  5166.061231  25872.884320  5916.331441   \n",
       "Topic3  4504.077371   230.728130  2635.686287   9681.274296  1581.651530   \n",
       "\n",
       "                5             6             7            8             9    \\\n",
       "Topic0   851.369281   2591.168847   1600.113360   753.179773   4785.990668   \n",
       "Topic1    35.546267     51.941883   1396.325853    21.865761     12.259241   \n",
       "Topic2  6085.945300  14639.206932  15173.879441  4975.699913  20328.993597   \n",
       "Topic3   614.515467   3774.008613   2385.465760  1301.985113   1975.482077   \n",
       "\n",
       "        ...          261          262          263           264          265  \\\n",
       "Topic0  ...   959.177653  1817.220477   785.689470      1.024256  1495.902653   \n",
       "Topic1  ...   621.744963    10.356907    28.466301      1.087586  2640.487589   \n",
       "Topic2  ...  2271.467920  1147.643647  4729.134523      1.062531   688.329004   \n",
       "Topic3  ...  1760.220742  5946.673809  1201.536211  16942.225886  4649.365067   \n",
       "\n",
       "                266           267           268           269          270  \n",
       "Topic0  1662.054941      1.072140      1.039218   3004.114444   724.660161  \n",
       "Topic1   894.097232    239.676559      1.105247  17024.501757   159.023412  \n",
       "Topic2  3148.645345      1.039709      1.101836  15319.971674  4625.443772  \n",
       "Topic3   932.567511  20811.486421  12403.438164    446.123321  1766.062687  \n",
       "\n",
       "[4 rows x 271 columns]"
      ]
     },
     "execution_count": 109,
     "metadata": {},
     "output_type": "execute_result"
    }
   ],
   "source": [
    "df_topic_keywords"
   ]
  },
  {
   "cell_type": "code",
   "execution_count": 115,
   "metadata": {},
   "outputs": [],
   "source": [
    "def show_topics(vectorizer, lda_model, n_words=20):\n",
    "    keywords = np.array(vectorizer.get_feature_names_out())\n",
    "    topic_keywords = []\n",
    "    for topic_weights in lda_model.components_:\n",
    "        top_keyword_locs = (-topic_weights).argsort()[:n_words]\n",
    "        topic_keywords.append(keywords.take(top_keyword_locs))\n",
    "    return topic_keywords"
   ]
  },
  {
   "cell_type": "code",
   "execution_count": 124,
   "metadata": {},
   "outputs": [],
   "source": [
    "topic_keywords = show_topics(vectorizer=cv, lda_model=model, n_words=15)"
   ]
  },
  {
   "cell_type": "code",
   "execution_count": 125,
   "metadata": {},
   "outputs": [
    {
     "data": {
      "text/html": [
       "<div>\n",
       "<style scoped>\n",
       "    .dataframe tbody tr th:only-of-type {\n",
       "        vertical-align: middle;\n",
       "    }\n",
       "\n",
       "    .dataframe tbody tr th {\n",
       "        vertical-align: top;\n",
       "    }\n",
       "\n",
       "    .dataframe thead th {\n",
       "        text-align: right;\n",
       "    }\n",
       "</style>\n",
       "<table border=\"1\" class=\"dataframe\">\n",
       "  <thead>\n",
       "    <tr style=\"text-align: right;\">\n",
       "      <th></th>\n",
       "      <th>Word 0</th>\n",
       "      <th>Word 1</th>\n",
       "      <th>Word 2</th>\n",
       "      <th>Word 3</th>\n",
       "      <th>Word 4</th>\n",
       "      <th>Word 5</th>\n",
       "      <th>Word 6</th>\n",
       "      <th>Word 7</th>\n",
       "      <th>Word 8</th>\n",
       "      <th>Word 9</th>\n",
       "      <th>Word 10</th>\n",
       "      <th>Word 11</th>\n",
       "      <th>Word 12</th>\n",
       "      <th>Word 13</th>\n",
       "      <th>Word 14</th>\n",
       "    </tr>\n",
       "  </thead>\n",
       "  <tbody>\n",
       "    <tr>\n",
       "      <th>Topic 0</th>\n",
       "      <td>sälj</td>\n",
       "      <td>köp</td>\n",
       "      <td>bil</td>\n",
       "      <td>fel</td>\n",
       "      <td>köpt</td>\n",
       "      <td>huset</td>\n",
       "      <td>kräv</td>\n",
       "      <td>rätt</td>\n",
       "      <td>kunn</td>\n",
       "      <td>ans</td>\n",
       "      <td>bord</td>\n",
       "      <td>fall</td>\n",
       "      <td>enl</td>\n",
       "      <td>eftersom</td>\n",
       "      <td>skick</td>\n",
       "    </tr>\n",
       "    <tr>\n",
       "      <th>Topic 1</th>\n",
       "      <td>fast</td>\n",
       "      <td>skuld</td>\n",
       "      <td>egendom</td>\n",
       "      <td>gåv</td>\n",
       "      <td>kap</td>\n",
       "      <td>kr</td>\n",
       "      <td>betal</td>\n",
       "      <td>del</td>\n",
       "      <td>tillgång</td>\n",
       "      <td>skall</td>\n",
       "      <td>genom</td>\n",
       "      <td>innebär</td>\n",
       "      <td>äger</td>\n",
       "      <td>räkn</td>\n",
       "      <td>värd</td>\n",
       "    </tr>\n",
       "    <tr>\n",
       "      <th>Topic 2</th>\n",
       "      <td>betal</td>\n",
       "      <td>år</td>\n",
       "      <td>lägen</td>\n",
       "      <td>tid</td>\n",
       "      <td>peng</td>\n",
       "      <td>sambo</td>\n",
       "      <td>tillbak</td>\n",
       "      <td>säg</td>\n",
       "      <td>rätt</td>\n",
       "      <td>flytt</td>\n",
       "      <td>fått</td>\n",
       "      <td>fick</td>\n",
       "      <td>dag</td>\n",
       "      <td>månad</td>\n",
       "      <td>sen</td>\n",
       "    </tr>\n",
       "    <tr>\n",
       "      <th>Topic 3</th>\n",
       "      <td>person</td>\n",
       "      <td>kap</td>\n",
       "      <td>brott</td>\n",
       "      <td>fall</td>\n",
       "      <td>uppgift</td>\n",
       "      <td>brottet</td>\n",
       "      <td>polis</td>\n",
       "      <td>enl</td>\n",
       "      <td>vänd</td>\n",
       "      <td>svar</td>\n",
       "      <td>domstol</td>\n",
       "      <td>döm</td>\n",
       "      <td>andr</td>\n",
       "      <td>år</td>\n",
       "      <td>ans</td>\n",
       "    </tr>\n",
       "    <tr>\n",
       "      <th>Topic 4</th>\n",
       "      <td>barnet</td>\n",
       "      <td>barn</td>\n",
       "      <td>sver</td>\n",
       "      <td>föräldr</td>\n",
       "      <td>kap</td>\n",
       "      <td>beslut</td>\n",
       "      <td>rätt</td>\n",
       "      <td>bäst</td>\n",
       "      <td>svensk</td>\n",
       "      <td>domstol</td>\n",
       "      <td>båd</td>\n",
       "      <td>bor</td>\n",
       "      <td>andr</td>\n",
       "      <td>hos</td>\n",
       "      <td>vänd</td>\n",
       "    </tr>\n",
       "    <tr>\n",
       "      <th>Topic 5</th>\n",
       "      <td>mak</td>\n",
       "      <td>egendom</td>\n",
       "      <td>bodelning</td>\n",
       "      <td>barn</td>\n",
       "      <td>kap</td>\n",
       "      <td>rätt</td>\n",
       "      <td>del</td>\n",
       "      <td>testament</td>\n",
       "      <td>arv</td>\n",
       "      <td>ärv</td>\n",
       "      <td>enskild</td>\n",
       "      <td>äb</td>\n",
       "      <td>arvet</td>\n",
       "      <td>ärvdabalk</td>\n",
       "      <td>enl</td>\n",
       "    </tr>\n",
       "    <tr>\n",
       "      <th>Topic 6</th>\n",
       "      <td>rätt</td>\n",
       "      <td>lag</td>\n",
       "      <td>avtal</td>\n",
       "      <td>enl</td>\n",
       "      <td>vänd</td>\n",
       "      <td>arbetsgiv</td>\n",
       "      <td>fall</td>\n",
       "      <td>svar</td>\n",
       "      <td>kap</td>\n",
       "      <td>avtalet</td>\n",
       "      <td>innebär</td>\n",
       "      <td>måst</td>\n",
       "      <td>kräv</td>\n",
       "      <td>säg</td>\n",
       "      <td>vän</td>\n",
       "    </tr>\n",
       "  </tbody>\n",
       "</table>\n",
       "</div>"
      ],
      "text/plain": [
       "         Word 0   Word 1     Word 2   Word 3   Word 4     Word 5   Word 6  \\\n",
       "Topic 0    sälj      köp        bil      fel     köpt      huset     kräv   \n",
       "Topic 1    fast    skuld    egendom      gåv      kap         kr    betal   \n",
       "Topic 2   betal       år      lägen      tid     peng      sambo  tillbak   \n",
       "Topic 3  person      kap      brott     fall  uppgift    brottet    polis   \n",
       "Topic 4  barnet     barn       sver  föräldr      kap     beslut     rätt   \n",
       "Topic 5     mak  egendom  bodelning     barn      kap       rätt      del   \n",
       "Topic 6    rätt      lag      avtal      enl     vänd  arbetsgiv     fall   \n",
       "\n",
       "            Word 7    Word 8   Word 9  Word 10  Word 11 Word 12    Word 13  \\\n",
       "Topic 0       rätt      kunn      ans     bord     fall     enl   eftersom   \n",
       "Topic 1        del  tillgång    skall    genom  innebär    äger       räkn   \n",
       "Topic 2        säg      rätt    flytt     fått     fick     dag      månad   \n",
       "Topic 3        enl      vänd     svar  domstol      döm    andr         år   \n",
       "Topic 4       bäst    svensk  domstol      båd      bor    andr        hos   \n",
       "Topic 5  testament       arv      ärv  enskild       äb   arvet  ärvdabalk   \n",
       "Topic 6       svar       kap  avtalet  innebär     måst    kräv        säg   \n",
       "\n",
       "        Word 14  \n",
       "Topic 0   skick  \n",
       "Topic 1    värd  \n",
       "Topic 2     sen  \n",
       "Topic 3     ans  \n",
       "Topic 4    vänd  \n",
       "Topic 5     enl  \n",
       "Topic 6     vän  "
      ]
     },
     "execution_count": 125,
     "metadata": {},
     "output_type": "execute_result"
    }
   ],
   "source": [
    "df_topic_keywords = pd.DataFrame(topic_keywords)\n",
    "df_topic_keywords.columns = [\n",
    "    \"Word \" + str(i) for i in range(df_topic_keywords.shape[1])\n",
    "]\n",
    "df_topic_keywords.index = [\"Topic \" + str(i) for i in range(df_topic_keywords.shape[0])]\n",
    "df_topic_keywords"
   ]
  },
  {
   "cell_type": "code",
   "execution_count": null,
   "metadata": {},
   "outputs": [],
   "source": []
  }
 ],
 "metadata": {
  "kernelspec": {
   "display_name": "Python 3.9.7 ('capstone')",
   "language": "python",
   "name": "python3"
  },
  "language_info": {
   "codemirror_mode": {
    "name": "ipython",
    "version": 3
   },
   "file_extension": ".py",
   "mimetype": "text/x-python",
   "name": "python",
   "nbconvert_exporter": "python",
   "pygments_lexer": "ipython3",
   "version": "3.9.7"
  },
  "vscode": {
   "interpreter": {
    "hash": "276a14dae6666bcb6ed89d918896adede68a2b9bdb45438fbd6182b59f67b49f"
   }
  }
 },
 "nbformat": 4,
 "nbformat_minor": 4
}
